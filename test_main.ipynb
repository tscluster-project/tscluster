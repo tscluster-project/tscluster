{
 "cells": [
  {
   "cell_type": "code",
   "execution_count": 1,
   "id": "47c3d226-b070-4b92-9d79-9700d4a1b942",
   "metadata": {},
   "outputs": [],
   "source": [
    "import numpy as np\n",
    "from tslearn.generators import random_walks\n",
    "from tslearn.clustering import TimeSeriesKMeans\n",
    "from sklearn.preprocessing import StandardScaler, MinMaxScaler\n",
    "\n",
    "from tscluster.opttscluster import OptTSCluster\n",
    "from tscluster.tskmeans import TSKmeans, TSGlobalKmeans\n",
    "from tscluster.preprocessing import utils as preprocess_utils, TSStandardScaler, TSMinMaxScaler\n",
    "from tscluster.metrics import inertia, max_dist"
   ]
  },
  {
   "cell_type": "code",
   "execution_count": 2,
   "id": "5d18b64d-aeb2-463e-97b1-5e22a923e51d",
   "metadata": {},
   "outputs": [],
   "source": [
    "X_mini = np.load(\"./sythetic_data.npy\")"
   ]
  },
  {
   "cell_type": "code",
   "execution_count": 3,
   "id": "7af1fe49-5fda-4c7c-a96c-4e63e9f5d4ef",
   "metadata": {},
   "outputs": [
    {
     "name": "stdout",
     "output_type": "stream",
     "text": [
      "Warm starting...\n",
      "Done with warm start after 0.1secs\n",
      "\n",
      "Set parameter Username\n",
      "Academic license - for non-commercial use only - expires 2025-03-18\n",
      "\n",
      "100.0% of data used\n",
      "Done with 1 of 1. Ehat: [1.52196375], Estar: [1.52196375]\n",
      "\n",
      "Total time is 0.49secs\n",
      "\n"
     ]
    },
    {
     "data": {
      "text/plain": [
       "<tscluster.opttscluster.opttscluster.OptTSCluster at 0x257ac180f40>"
      ]
     },
     "execution_count": 3,
     "metadata": {},
     "output_type": "execute_result"
    }
   ],
   "source": [
    "kc_opt_model = OptTSCluster(3, random_state=42, use_full_constraints=1, warm_start=1, \n",
    "                          scheme='z1c1', n_allow_assignment_change=None,\n",
    "                             use_MILP_centroid=True, is_tight_constraints=False, is_Z_positive=True,\n",
    "                             init_with_prev=False, use_sum_distance=False)\n",
    "\n",
    "kc_opt_model.fit(X_mini, verbose=True)"
   ]
  },
  {
   "cell_type": "code",
   "execution_count": 4,
   "id": "15cd2151-323f-48b0-aef3-725b27ef3174",
   "metadata": {},
   "outputs": [
    {
     "name": "stdout",
     "output_type": "stream",
     "text": [
      "inertia score is 214.40647069697624\n",
      "max_dist score is 1.5219637544500682\n",
      "shape of labels_ is (30, 10)\n",
      "head of labels_ is:\n",
      "[[2 2 2 2 2 2 2 2 2 2]\n",
      " [1 1 1 1 1 1 1 1 1 1]\n",
      " [1 2 1 1 1 1 1 1 1 2]\n",
      " [2 0 0 2 0 0 0 0 0 0]\n",
      " [1 2 0 1 1 1 1 1 1 2]]\n",
      "shape of cluster_centers_ is (10, 3, 1)\n",
      "head of cluster_centers_ is:\n",
      "[[[ 8.3640779 ]\n",
      "  [15.38092986]\n",
      "  [ 9.87721949]]\n",
      "\n",
      " [[11.50046295]\n",
      "  [10.04978372]\n",
      "  [ 9.40500694]]\n",
      "\n",
      " [[ 9.45626162]\n",
      "  [ 9.41879279]\n",
      "  [10.36034458]]\n",
      "\n",
      " [[10.68152685]\n",
      "  [ 6.15811016]\n",
      "  [10.68152685]]\n",
      "\n",
      " [[ 8.58872533]\n",
      "  [ 5.36710865]\n",
      "  [12.27555051]]]\n"
     ]
    }
   ],
   "source": [
    "print(f\"inertia score is {inertia('./sythetic_data.npy', kc_opt_model.cluster_centers_, kc_opt_model.labels_, ord=1)}\")\n",
    "print(f\"max_dist score is {max_dist('./sythetic_data.npy', kc_opt_model.cluster_centers_, kc_opt_model.labels_, ord=1)}\")\n",
    "print(f\"shape of labels_ is {kc_opt_model.labels_.shape}\")\n",
    "print(\"head of labels_ is:\")\n",
    "print(kc_opt_model.labels_[:5, :])\n",
    "\n",
    "print(f\"shape of cluster_centers_ is {kc_opt_model.cluster_centers_.shape}\")\n",
    "print(\"head of cluster_centers_ is:\")\n",
    "\n",
    "if len(kc_opt_model.cluster_centers_.shape) == 3:\n",
    "    print(kc_opt_model.cluster_centers_[:5, :, :])\n",
    "else:\n",
    "    print(kc_opt_model.cluster_centers_)"
   ]
  },
  {
   "cell_type": "code",
   "execution_count": 5,
   "id": "8ddb95a7-748c-4ff8-8a0b-b3e7809495da",
   "metadata": {},
   "outputs": [],
   "source": [
    "X = random_walks(n_ts=50, sz=32, d=2, random_state=42)\n",
    "Xt = preprocess_utils.NTF_to_TNF(X)"
   ]
  },
  {
   "cell_type": "code",
   "execution_count": 6,
   "id": "f360f876-f4a2-48b1-8119-103c3e26178c",
   "metadata": {},
   "outputs": [
    {
     "name": "stdout",
     "output_type": "stream",
     "text": [
      "(50, 32, 2)\n",
      "[1 0 2 0 1 1 2 1 1 0 2 2 1 0 0 1 1 1 2 0 0 1 0 0 1 0 0 0 1 0 0 1 1 1 0 1 0\n",
      " 1 0 1 1 0 0 1 1 2 1 1 2 1]\n",
      "50\n",
      "(32, 3, 2)\n",
      "[[ 0.07999396  0.35317914]\n",
      " [ 0.19301267 -0.05467002]\n",
      " [-0.74667991  0.01571665]]\n",
      "\n"
     ]
    }
   ],
   "source": [
    "km = TSKmeans(n_clusters=3, metric=\"euclidean\", max_iter=5, random_state=0)\n",
    "km.fit(X, arr_format=\"NTF\")\n",
    "print(km.Xt.shape)\n",
    "print(km.labels_)\n",
    "print(len(km.labels_))\n",
    "print(km.cluster_centers_.shape)\n",
    "print(km.cluster_centers_[0, :5, :])\n",
    "print()"
   ]
  },
  {
   "cell_type": "code",
   "execution_count": 7,
   "id": "3f8696f2-90ae-4e8b-8dbb-35e254e4e247",
   "metadata": {},
   "outputs": [
    {
     "name": "stdout",
     "output_type": "stream",
     "text": [
      "[1 0 2 0 1 1 2 1 1 0 2 2 1 0 0 1 1 1 2 0 0 1 0 0 1 0 0 0 1 0 0 1 1 1 0 1 0\n",
      " 1 0 1 1 0 0 1 1 2 1 1 2 1]\n",
      "50\n",
      "[[ 0.07999396  0.35317914]\n",
      " [ 0.19301267 -0.05467002]\n",
      " [-0.74667991  0.01571665]]\n"
     ]
    }
   ],
   "source": [
    "km2 = TimeSeriesKMeans(n_clusters=3, metric=\"euclidean\", max_iter=5, random_state=0).fit(X)\n",
    "print(km2.labels_)\n",
    "print(len(km2.labels_))\n",
    "print(km2.cluster_centers_[:5, 0, :])"
   ]
  },
  {
   "cell_type": "code",
   "execution_count": 8,
   "id": "62230b11-726b-4362-958d-f501406d6495",
   "metadata": {},
   "outputs": [
    {
     "name": "stdout",
     "output_type": "stream",
     "text": [
      "[[1 0 0 ... 1 1 1]\n",
      " [2 2 2 ... 2 2 2]\n",
      " [1 1 1 ... 2 2 2]\n",
      " ...\n",
      " [1 1 1 ... 1 1 1]\n",
      " [2 2 2 ... 2 2 2]\n",
      " [1 1 1 ... 1 1 1]]\n",
      "(50, 32)\n"
     ]
    }
   ],
   "source": [
    "km3 = TSGlobalKmeans(n_clusters=3)\n",
    "km3.fit(Xt)\n",
    "print(km3.labels_)\n",
    "print(km3.labels_.shape)"
   ]
  },
  {
   "cell_type": "code",
   "execution_count": 9,
   "id": "6b07cf7d-568b-46b1-97eb-1d99eb5f6b54",
   "metadata": {},
   "outputs": [
    {
     "name": "stdout",
     "output_type": "stream",
     "text": [
      "Z score\n",
      "per_time =True\n",
      "Zscore X_scaled shape is (32, 50, 2)\n",
      "[[ 0.53997391 -0.24777653]\n",
      " [ 0.89657801  1.24279008]\n",
      " [ 0.09162373 -0.61202562]\n",
      " [ 0.22084828 -1.35233303]\n",
      " [ 1.40965491 -0.81568142]]\n",
      "Original data is:\n",
      "[[ 0.49671415 -0.1382643 ]\n",
      " [ 0.81252582  1.35624003]\n",
      " [ 0.09965137 -0.50347565]\n",
      " [ 0.21409374 -1.24573878]\n",
      " [ 1.26691115 -0.70766947]]\n",
      "Inverse is: \n",
      "[[ 0.49671415 -0.1382643 ]\n",
      " [ 0.81252582  1.35624003]\n",
      " [ 0.09965137 -0.50347565]\n",
      " [ 0.21409374 -1.24573878]\n",
      " [ 1.26691115 -0.70766947]]\n",
      "\n"
     ]
    }
   ],
   "source": [
    "print(\"Z score\")\n",
    "\n",
    "print(\"per_time =True\")\n",
    "\n",
    "scaler = TSStandardScaler(per_time=True)\n",
    "scaler.fit(X, arr_format='NTF')\n",
    "X_scaled = scaler.transform(X, arr_format='NTF',) \n",
    "print(f\"Zscore X_scaled shape is {X_scaled.shape}\")\n",
    "print(X_scaled[0, :5, :])\n",
    "print(f\"Original data is:\")\n",
    "print(Xt[0, :5, :])\n",
    "print(\"Inverse is: \")\n",
    "print(scaler.inverse_transform(X_scaled)[0, :5, :])\n",
    "print()"
   ]
  },
  {
   "cell_type": "code",
   "execution_count": 10,
   "id": "0041ea9f-2678-46d1-a000-38052a9a3f52",
   "metadata": {},
   "outputs": [
    {
     "name": "stdout",
     "output_type": "stream",
     "text": [
      "[[ 0.53997391 -0.24777653]\n",
      " [ 0.89657801  1.24279008]\n",
      " [ 0.09162373 -0.61202562]\n",
      " [ 0.22084828 -1.35233303]\n",
      " [ 1.40965491 -0.81568142]]\n",
      "per_time = False\n",
      "Zscore X_scaled shape is (32, 50, 2)\n",
      "[[ 0.14294426 -0.18959971]\n",
      " [ 0.22135297  0.16679301]\n",
      " [ 0.04436277 -0.27669125]\n",
      " [ 0.07277616 -0.45369788]\n",
      " [ 0.33416631 -0.32538511]]\n",
      "Original data is:\n",
      "[[ 0.49671415 -0.1382643 ]\n",
      " [ 0.81252582  1.35624003]\n",
      " [ 0.09965137 -0.50347565]\n",
      " [ 0.21409374 -1.24573878]\n",
      " [ 1.26691115 -0.70766947]]\n",
      "Inverse is: \n",
      "[[ 0.49671415 -0.1382643 ]\n",
      " [ 0.81252582  1.35624003]\n",
      " [ 0.09965137 -0.50347565]\n",
      " [ 0.21409374 -1.24573878]\n",
      " [ 1.26691115 -0.70766947]]\n",
      "\n"
     ]
    }
   ],
   "source": [
    "sk_scaler = StandardScaler()\n",
    "print(sk_scaler.fit_transform(Xt[0])[:5])\n",
    "\n",
    "print(\"per_time = False\")\n",
    "\n",
    "scaler = TSStandardScaler(per_time=False)\n",
    "X_scaled = scaler.fit_transform(Xt)\n",
    "print(f\"Zscore X_scaled shape is {X_scaled.shape}\")\n",
    "print(X_scaled[0, :5, :])\n",
    "print(f\"Original data is:\")\n",
    "print(Xt[0, :5, :])\n",
    "print(\"Inverse is: \")\n",
    "print(scaler.inverse_transform(X_scaled)[0, :5, :])\n",
    "print()"
   ]
  },
  {
   "cell_type": "code",
   "execution_count": 11,
   "id": "d1946f10-1079-4131-93b6-7150eb0b5aa1",
   "metadata": {},
   "outputs": [
    {
     "name": "stdout",
     "output_type": "stream",
     "text": [
      "[[ 0.14294426 -0.18959971]\n",
      " [ 0.22135297  0.16679301]\n",
      " [ 0.04436277 -0.27669125]\n",
      " [ 0.07277616 -0.45369788]\n",
      " [ 0.33416631 -0.32538511]]\n",
      "MinMax\n",
      "per_time =True\n",
      "MinMax X_scaled shape is (32, 50, 2)\n",
      "[[0.64596382 0.379006  ]\n",
      " [0.72055504 0.66472828]\n",
      " [0.55218198 0.30918417]\n",
      " [0.57921201 0.16727684]\n",
      " [0.82787582 0.27014599]]\n",
      "Original data is:\n",
      "[[ 0.49671415 -0.1382643 ]\n",
      " [ 0.81252582  1.35624003]\n",
      " [ 0.09965137 -0.50347565]\n",
      " [ 0.21409374 -1.24573878]\n",
      " [ 1.26691115 -0.70766947]]\n",
      "Inverse is: \n",
      "[[ 0.49671415 -0.1382643 ]\n",
      " [ 0.81252582  1.35624003]\n",
      " [ 0.09965137 -0.50347565]\n",
      " [ 0.21409374 -1.24573878]\n",
      " [ 1.26691115 -0.70766947]]\n",
      "\n"
     ]
    }
   ],
   "source": [
    "sk_scaler = StandardScaler()\n",
    "print(sk_scaler.fit_transform(np.vstack(Xt))[:5])\n",
    "\n",
    "\n",
    "print(\"MinMax\")\n",
    "\n",
    "print(\"per_time =True\")\n",
    "\n",
    "scaler = TSMinMaxScaler(per_time=True)\n",
    "X_scaled = scaler.fit_transform(Xt)\n",
    "print(f\"MinMax X_scaled shape is {X_scaled.shape}\")\n",
    "print(X_scaled[0, :5, :])\n",
    "print(f\"Original data is:\")\n",
    "print(Xt[0, :5, :])\n",
    "print(\"Inverse is: \")\n",
    "print(scaler.inverse_transform(X_scaled)[0, :5, :])\n",
    "print()"
   ]
  },
  {
   "cell_type": "code",
   "execution_count": 12,
   "id": "57c61762-cb8b-4f84-b704-d70dc567349e",
   "metadata": {},
   "outputs": [
    {
     "name": "stdout",
     "output_type": "stream",
     "text": [
      "[[0.64596382 0.379006  ]\n",
      " [0.72055504 0.66472828]\n",
      " [0.55218198 0.30918417]\n",
      " [0.57921201 0.16727684]\n",
      " [0.82787582 0.27014599]]\n",
      "per_time = False\n",
      "MinMax X_scaled shape is (32, 50, 2)\n",
      "[[0.43439912 0.483141  ]\n",
      " [0.44533096 0.53998866]\n",
      " [0.42065476 0.46924917]\n",
      " [0.42461619 0.44101511]\n",
      " [0.46105953 0.46148208]]\n",
      "Original data is:\n",
      "[[ 0.49671415 -0.1382643 ]\n",
      " [ 0.81252582  1.35624003]\n",
      " [ 0.09965137 -0.50347565]\n",
      " [ 0.21409374 -1.24573878]\n",
      " [ 1.26691115 -0.70766947]]\n",
      "Inverse is: \n",
      "[[ 0.49671415 -0.1382643 ]\n",
      " [ 0.81252582  1.35624003]\n",
      " [ 0.09965137 -0.50347565]\n",
      " [ 0.21409374 -1.24573878]\n",
      " [ 1.26691115 -0.70766947]]\n",
      "\n"
     ]
    }
   ],
   "source": [
    "sk_scaler = MinMaxScaler()\n",
    "print(sk_scaler.fit_transform(Xt[0])[:5])\n",
    "\n",
    "print(\"per_time = False\")\n",
    "\n",
    "scaler = TSMinMaxScaler(per_time=False)\n",
    "X_scaled = scaler.fit_transform(Xt)\n",
    "print(f\"MinMax X_scaled shape is {X_scaled.shape}\")\n",
    "print(X_scaled[0, :5, :])\n",
    "print(f\"Original data is:\")\n",
    "print(Xt[0, :5, :])\n",
    "print(\"Inverse is: \")\n",
    "print(scaler.inverse_transform(X_scaled)[0, :5, :])\n",
    "print()"
   ]
  },
  {
   "cell_type": "code",
   "execution_count": 13,
   "id": "6e91d950-6648-48bd-9123-b78a8e248dc7",
   "metadata": {},
   "outputs": [
    {
     "name": "stdout",
     "output_type": "stream",
     "text": [
      "[[0.43439912 0.483141  ]\n",
      " [0.44533096 0.53998866]\n",
      " [0.42065476 0.46924917]\n",
      " [0.42461619 0.44101511]\n",
      " [0.46105953 0.46148208]]\n",
      "\n",
      "trying fit(str) for csv\n",
      "[[0.67814774 0.45543777]\n",
      " [0.54284793 0.41720739]\n",
      " [0.81468802 0.44522107]\n",
      " [0.52336054 0.68782624]\n",
      " [0.712215   0.49158623]]\n",
      "Inverse tranform for csv\n",
      "[[ 0.49671415 -0.1382643 ]\n",
      " [-0.46341769 -0.46572975]\n",
      " [ 1.46564877 -0.2257763 ]\n",
      " [-0.60170661  1.85227818]\n",
      " [ 0.73846658  0.17136828]]\n"
     ]
    }
   ],
   "source": [
    "sk_scaler = MinMaxScaler()\n",
    "print(sk_scaler.fit_transform(np.vstack(Xt))[:5])\n",
    "\n",
    "scaler = TSMinMaxScaler(per_time=False)\n",
    "print()\n",
    "print(\"trying fit(str) for csv\")\n",
    "Xt = scaler.fit_transform(\"./synthetic_csv\")\n",
    "print(Xt[0, :5, :])\n",
    "print(\"Inverse tranform for csv\")\n",
    "print(scaler.inverse_transform(Xt)[0, :5, :])"
   ]
  },
  {
   "cell_type": "code",
   "execution_count": 14,
   "id": "f14389ff-4e17-4c90-90d7-fbf9bbb55137",
   "metadata": {},
   "outputs": [
    {
     "name": "stdout",
     "output_type": "stream",
     "text": [
      "\n",
      "trying fit(str) for json\n",
      "[[0.67814774 0.45543777]\n",
      " [0.54284793 0.41720739]\n",
      " [0.81468802 0.44522107]\n",
      " [0.52336054 0.68782624]\n",
      " [0.712215   0.49158623]]\n",
      "Inverse tranform for json\n",
      "[[ 0.49671415 -0.1382643 ]\n",
      " [-0.46341769 -0.46572975]\n",
      " [ 1.46564877 -0.2257763 ]\n",
      " [-0.60170661  1.85227818]\n",
      " [ 0.73846658  0.17136828]]\n"
     ]
    }
   ],
   "source": [
    "print()\n",
    "print(\"trying fit(str) for json\")\n",
    "Xt = scaler.fit_transform(\"./synthetic_json\")\n",
    "print(Xt[0, :5, :])\n",
    "print(\"Inverse tranform for json\")\n",
    "print(scaler.inverse_transform(Xt)[0, :5, :])"
   ]
  },
  {
   "cell_type": "code",
   "execution_count": 15,
   "id": "111b9be7-3679-4960-98c2-1977cd9799c9",
   "metadata": {},
   "outputs": [
    {
     "name": "stdout",
     "output_type": "stream",
     "text": [
      "\n",
      "trying fit(str) for npy\n",
      "[[0.67814774 0.45543777]\n",
      " [0.54284793 0.41720739]\n",
      " [0.81468802 0.44522107]\n",
      " [0.52336054 0.68782624]\n",
      " [0.712215   0.49158623]]\n",
      "Inverse tranform for npy\n",
      "[[ 0.49671415 -0.1382643 ]\n",
      " [-0.46341769 -0.46572975]\n",
      " [ 1.46564877 -0.2257763 ]\n",
      " [-0.60170661  1.85227818]\n",
      " [ 0.73846658  0.17136828]]\n"
     ]
    }
   ],
   "source": [
    "print()\n",
    "print(\"trying fit(str) for npy\")\n",
    "Xt = scaler.fit_transform(\"./synthetic_npy\")\n",
    "print(Xt[0, :5, :])\n",
    "print(\"Inverse tranform for npy\")\n",
    "print(scaler.inverse_transform(Xt)[0, :5, :])"
   ]
  },
  {
   "cell_type": "code",
   "execution_count": 16,
   "id": "5c368f57-8c2b-4582-9a3b-0976732ec6d6",
   "metadata": {},
   "outputs": [
    {
     "name": "stdout",
     "output_type": "stream",
     "text": [
      "\n",
      "trying fit(lst) for csv\n"
     ]
    }
   ],
   "source": [
    "print()\n",
    "print(\"trying fit(lst) for csv\")\n",
    "file_list = [\n",
    "    \"./synthetic_csv/timestep_0.csv\",\n",
    "    \"./synthetic_csv/timestep_1.csv\",\n",
    "    \"./synthetic_csv/timestep_2.csv\",\n",
    "    \"./synthetic_csv/timestep_3.csv\",\n",
    "    \"./synthetic_csv/timestep_4.csv\"\n",
    "]"
   ]
  },
  {
   "cell_type": "code",
   "execution_count": 17,
   "id": "d56c55f7-b633-4466-817d-5175775c7ad6",
   "metadata": {},
   "outputs": [
    {
     "name": "stdout",
     "output_type": "stream",
     "text": [
      "[[0.67814774 0.45543777]\n",
      " [0.54284793 0.41720739]\n",
      " [0.81468802 0.44522107]\n",
      " [0.52336054 0.68782624]\n",
      " [0.712215   0.49158623]]\n",
      "Inverse tranform for csv\n",
      "[[ 0.49671415 -0.1382643 ]\n",
      " [-0.46341769 -0.46572975]\n",
      " [ 1.46564877 -0.2257763 ]\n",
      " [-0.60170661  1.85227818]\n",
      " [ 0.73846658  0.17136828]]\n"
     ]
    }
   ],
   "source": [
    "scaler.fit(file_list, read_file_args={'header': 0, 'sep': \",\"})\n",
    "Xt = scaler.transform(file_list, read_file_args={'header': None, 'sep': \",\"})\n",
    "print(Xt[0, :5, :])\n",
    "print(\"Inverse tranform for csv\")\n",
    "print(scaler.inverse_transform(Xt)[0, :5, :])"
   ]
  },
  {
   "cell_type": "code",
   "execution_count": 18,
   "id": "283fdd27-199b-480a-a362-69413f4876a7",
   "metadata": {},
   "outputs": [
    {
     "name": "stdout",
     "output_type": "stream",
     "text": [
      "\n",
      "fit_transform\n",
      "[[0.67814774 0.45543777]\n",
      " [0.54284793 0.41720739]\n",
      " [0.81468802 0.44522107]\n",
      " [0.52336054 0.68782624]\n",
      " [0.712215   0.49158623]]\n",
      "Inverse tranform for csv\n",
      "[[ 0.49671415 -0.1382643 ]\n",
      " [-0.46341769 -0.46572975]\n",
      " [ 1.46564877 -0.2257763 ]\n",
      " [-0.60170661  1.85227818]\n",
      " [ 0.73846658  0.17136828]]\n"
     ]
    }
   ],
   "source": [
    "print()\n",
    "print(\"fit_transform\")\n",
    "# scaler.fit(file_list, read_file_args={'header': None, 'sep': \",\"})\n",
    "Xt = scaler.fit_transform(file_list, read_file_args={'header': None, 'sep': \",\"})\n",
    "print(Xt[0, :5, :])\n",
    "print(\"Inverse tranform for csv\")\n",
    "print(scaler.inverse_transform(Xt)[0, :5, :])"
   ]
  },
  {
   "cell_type": "code",
   "execution_count": null,
   "id": "d5c37374-f018-4ca1-8b93-055de8ec2550",
   "metadata": {},
   "outputs": [],
   "source": []
  }
 ],
 "metadata": {
  "kernelspec": {
   "display_name": "Python 3 (ipykernel)",
   "language": "python",
   "name": "python3"
  },
  "language_info": {
   "codemirror_mode": {
    "name": "ipython",
    "version": 3
   },
   "file_extension": ".py",
   "mimetype": "text/x-python",
   "name": "python",
   "nbconvert_exporter": "python",
   "pygments_lexer": "ipython3",
   "version": "3.9.18"
  }
 },
 "nbformat": 4,
 "nbformat_minor": 5
}
