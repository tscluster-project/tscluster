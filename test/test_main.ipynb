{
 "cells": [
  {
   "cell_type": "code",
   "execution_count": 1,
   "id": "47c3d226-b070-4b92-9d79-9700d4a1b942",
   "metadata": {},
   "outputs": [],
   "source": [
    "import os \n",
    "\n",
    "os.chdir(\"..\")\n",
    "\n",
    "import numpy as np\n",
    "from tslearn.generators import random_walks\n",
    "from tslearn.clustering import TimeSeriesKMeans\n",
    "from sklearn.preprocessing import StandardScaler, MinMaxScaler\n",
    "\n",
    "from tscluster.opttscluster import OptTSCluster\n",
    "from tscluster.tskmeans import TSKmeans, TSGlobalKmeans\n",
    "from tscluster.preprocessing import utils as preprocess_utils, TSStandardScaler, TSMinMaxScaler\n",
    "from tscluster.metrics import inertia, max_dist"
   ]
  },
  {
   "cell_type": "code",
   "execution_count": 2,
   "id": "d7f6335d-3977-4e23-92ea-5fbc2be20e1d",
   "metadata": {},
   "outputs": [],
   "source": [
    "os.chdir(\"./test/sample_data\")"
   ]
  },
  {
   "cell_type": "code",
   "execution_count": 3,
   "id": "5d18b64d-aeb2-463e-97b1-5e22a923e51d",
   "metadata": {},
   "outputs": [],
   "source": [
    "X_mini = np.load(\"./sythetic_data.npy\")"
   ]
  },
  {
   "cell_type": "code",
   "execution_count": 4,
   "id": "7af1fe49-5fda-4c7c-a96c-4e63e9f5d4ef",
   "metadata": {},
   "outputs": [
    {
     "name": "stdout",
     "output_type": "stream",
     "text": [
      "Warm starting...\n",
      "Done with warm start after 0.11secs\n",
      "\n",
      "Set parameter Username\n",
      "Academic license - for non-commercial use only - expires 2025-03-18\n",
      "\n",
      "100.0% of data used\n",
      "Done with 1 of 1. Ehat: [1.52196375], Estar: [1.52196375]\n",
      "\n",
      "Total time is 0.52secs\n",
      "\n"
     ]
    },
    {
     "data": {
      "text/plain": [
       "<tscluster.opttscluster.opttscluster.OptTSCluster at 0x1b6fcb62490>"
      ]
     },
     "execution_count": 4,
     "metadata": {},
     "output_type": "execute_result"
    }
   ],
   "source": [
    "kc_opt_model = OptTSCluster(3, random_state=42, use_full_constraints=1, warm_start=1, \n",
    "                          scheme='z1c1', n_allow_assignment_change=None,\n",
    "                             use_MILP_centroid=True, is_tight_constraints=False, is_Z_positive=True,\n",
    "                             init_with_prev=False, use_sum_distance=False)\n",
    "\n",
    "kc_opt_model.fit(X_mini, verbose=True)"
   ]
  },
  {
   "cell_type": "code",
   "execution_count": 5,
   "id": "15cd2151-323f-48b0-aef3-725b27ef3174",
   "metadata": {},
   "outputs": [
    {
     "name": "stdout",
     "output_type": "stream",
     "text": [
      "inertia score is 214.40647069697624\n",
      "max_dist score is 1.5219637544500682\n",
      "shape of labels_ is (30, 10)\n",
      "head of labels_ is:\n",
      "[[2 2 2 2 2 2 2 2 2 2]\n",
      " [1 1 1 1 1 1 1 1 1 1]\n",
      " [1 2 1 1 1 1 1 1 1 2]\n",
      " [2 0 0 2 0 0 0 0 0 0]\n",
      " [1 2 0 1 1 1 1 1 1 2]]\n",
      "shape of cluster_centers_ is (10, 3, 1)\n",
      "head of cluster_centers_ is:\n",
      "[[[ 8.3640779 ]\n",
      "  [15.38092986]\n",
      "  [ 9.87721949]]\n",
      "\n",
      " [[11.50046295]\n",
      "  [10.04978372]\n",
      "  [ 9.40500694]]\n",
      "\n",
      " [[ 9.45626162]\n",
      "  [ 9.41879279]\n",
      "  [10.36034458]]\n",
      "\n",
      " [[10.68152685]\n",
      "  [ 6.15811016]\n",
      "  [10.68152685]]\n",
      "\n",
      " [[ 8.58872533]\n",
      "  [ 5.36710865]\n",
      "  [12.27555051]]]\n"
     ]
    }
   ],
   "source": [
    "print(f\"inertia score is {inertia('./sythetic_data.npy', kc_opt_model.cluster_centers_, kc_opt_model.labels_, ord=1)}\")\n",
    "print(f\"max_dist score is {max_dist('./sythetic_data.npy', kc_opt_model.cluster_centers_, kc_opt_model.labels_, ord=1)}\")\n",
    "print(f\"shape of labels_ is {kc_opt_model.labels_.shape}\")\n",
    "print(\"head of labels_ is:\")\n",
    "print(kc_opt_model.labels_[:5, :])\n",
    "\n",
    "print(f\"shape of cluster_centers_ is {kc_opt_model.cluster_centers_.shape}\")\n",
    "print(\"head of cluster_centers_ is:\")\n",
    "\n",
    "if len(kc_opt_model.cluster_centers_.shape) == 3:\n",
    "    print(kc_opt_model.cluster_centers_[:5, :, :])\n",
    "else:\n",
    "    print(kc_opt_model.cluster_centers_)"
   ]
  },
  {
   "cell_type": "code",
   "execution_count": 6,
   "id": "e8709aec-6180-4cf5-8e6a-2662fa9bf227",
   "metadata": {},
   "outputs": [
    {
     "data": {
      "text/html": [
       "<div>\n",
       "<style scoped>\n",
       "    .dataframe tbody tr th:only-of-type {\n",
       "        vertical-align: middle;\n",
       "    }\n",
       "\n",
       "    .dataframe tbody tr th {\n",
       "        vertical-align: top;\n",
       "    }\n",
       "\n",
       "    .dataframe thead th {\n",
       "        text-align: right;\n",
       "    }\n",
       "</style>\n",
       "<table border=\"1\" class=\"dataframe\">\n",
       "  <thead>\n",
       "    <tr style=\"text-align: right;\">\n",
       "      <th></th>\n",
       "      <th>t0</th>\n",
       "      <th>t1</th>\n",
       "      <th>t2</th>\n",
       "      <th>t3</th>\n",
       "      <th>t4</th>\n",
       "      <th>t5</th>\n",
       "      <th>t6</th>\n",
       "      <th>t7</th>\n",
       "      <th>t8</th>\n",
       "      <th>t9</th>\n",
       "    </tr>\n",
       "  </thead>\n",
       "  <tbody>\n",
       "    <tr>\n",
       "      <th>e0</th>\n",
       "      <td>2</td>\n",
       "      <td>2</td>\n",
       "      <td>2</td>\n",
       "      <td>2</td>\n",
       "      <td>2</td>\n",
       "      <td>2</td>\n",
       "      <td>2</td>\n",
       "      <td>2</td>\n",
       "      <td>2</td>\n",
       "      <td>2</td>\n",
       "    </tr>\n",
       "    <tr>\n",
       "      <th>e1</th>\n",
       "      <td>1</td>\n",
       "      <td>1</td>\n",
       "      <td>1</td>\n",
       "      <td>1</td>\n",
       "      <td>1</td>\n",
       "      <td>1</td>\n",
       "      <td>1</td>\n",
       "      <td>1</td>\n",
       "      <td>1</td>\n",
       "      <td>1</td>\n",
       "    </tr>\n",
       "    <tr>\n",
       "      <th>e2</th>\n",
       "      <td>1</td>\n",
       "      <td>2</td>\n",
       "      <td>1</td>\n",
       "      <td>1</td>\n",
       "      <td>1</td>\n",
       "      <td>1</td>\n",
       "      <td>1</td>\n",
       "      <td>1</td>\n",
       "      <td>1</td>\n",
       "      <td>2</td>\n",
       "    </tr>\n",
       "    <tr>\n",
       "      <th>e3</th>\n",
       "      <td>2</td>\n",
       "      <td>0</td>\n",
       "      <td>0</td>\n",
       "      <td>2</td>\n",
       "      <td>0</td>\n",
       "      <td>0</td>\n",
       "      <td>0</td>\n",
       "      <td>0</td>\n",
       "      <td>0</td>\n",
       "      <td>0</td>\n",
       "    </tr>\n",
       "    <tr>\n",
       "      <th>e4</th>\n",
       "      <td>1</td>\n",
       "      <td>2</td>\n",
       "      <td>0</td>\n",
       "      <td>1</td>\n",
       "      <td>1</td>\n",
       "      <td>1</td>\n",
       "      <td>1</td>\n",
       "      <td>1</td>\n",
       "      <td>1</td>\n",
       "      <td>2</td>\n",
       "    </tr>\n",
       "  </tbody>\n",
       "</table>\n",
       "</div>"
      ],
      "text/plain": [
       "    t0  t1  t2  t3  t4  t5  t6  t7  t8  t9\n",
       "e0   2   2   2   2   2   2   2   2   2   2\n",
       "e1   1   1   1   1   1   1   1   1   1   1\n",
       "e2   1   2   1   1   1   1   1   1   1   2\n",
       "e3   2   0   0   2   0   0   0   0   0   0\n",
       "e4   1   2   0   1   1   1   1   1   1   2"
      ]
     },
     "execution_count": 6,
     "metadata": {},
     "output_type": "execute_result"
    }
   ],
   "source": [
    "kc_opt_model.get_named_labels(\n",
    "    time=['t'+str(t) for t in range(kc_opt_model.fitted_data_shape_[0])], \n",
    "    entities=['e'+str(e) for e in range(kc_opt_model.fitted_data_shape_[1])]\n",
    ").head()"
   ]
  },
  {
   "cell_type": "code",
   "execution_count": 7,
   "id": "03d94cb3-986a-4411-903a-b1ddc4d7f7f3",
   "metadata": {},
   "outputs": [
    {
     "data": {
      "text/plain": [
       "3"
      ]
     },
     "execution_count": 7,
     "metadata": {},
     "output_type": "execute_result"
    }
   ],
   "source": [
    "centers = kc_opt_model.get_named_cluster_centers(\n",
    "    time=['t'+str(t) for t in range(kc_opt_model.fitted_data_shape_[0])], \n",
    "    features=['f'+str(f) for f in range(kc_opt_model.fitted_data_shape_[2])]\n",
    ")\n",
    "len(centers)"
   ]
  },
  {
   "cell_type": "code",
   "execution_count": 8,
   "id": "b2e0890a-d198-4eb4-bf10-1ddd1d7b316b",
   "metadata": {},
   "outputs": [
    {
     "data": {
      "text/html": [
       "<div>\n",
       "<style scoped>\n",
       "    .dataframe tbody tr th:only-of-type {\n",
       "        vertical-align: middle;\n",
       "    }\n",
       "\n",
       "    .dataframe tbody tr th {\n",
       "        vertical-align: top;\n",
       "    }\n",
       "\n",
       "    .dataframe thead th {\n",
       "        text-align: right;\n",
       "    }\n",
       "</style>\n",
       "<table border=\"1\" class=\"dataframe\">\n",
       "  <thead>\n",
       "    <tr style=\"text-align: right;\">\n",
       "      <th></th>\n",
       "      <th>f0</th>\n",
       "    </tr>\n",
       "  </thead>\n",
       "  <tbody>\n",
       "    <tr>\n",
       "      <th>t0</th>\n",
       "      <td>8.364078</td>\n",
       "    </tr>\n",
       "    <tr>\n",
       "      <th>t1</th>\n",
       "      <td>11.500463</td>\n",
       "    </tr>\n",
       "    <tr>\n",
       "      <th>t2</th>\n",
       "      <td>9.456262</td>\n",
       "    </tr>\n",
       "    <tr>\n",
       "      <th>t3</th>\n",
       "      <td>10.681527</td>\n",
       "    </tr>\n",
       "    <tr>\n",
       "      <th>t4</th>\n",
       "      <td>8.588725</td>\n",
       "    </tr>\n",
       "    <tr>\n",
       "      <th>t5</th>\n",
       "      <td>11.339732</td>\n",
       "    </tr>\n",
       "    <tr>\n",
       "      <th>t6</th>\n",
       "      <td>8.403033</td>\n",
       "    </tr>\n",
       "    <tr>\n",
       "      <th>t7</th>\n",
       "      <td>11.649322</td>\n",
       "    </tr>\n",
       "    <tr>\n",
       "      <th>t8</th>\n",
       "      <td>8.134154</td>\n",
       "    </tr>\n",
       "    <tr>\n",
       "      <th>t9</th>\n",
       "      <td>12.781047</td>\n",
       "    </tr>\n",
       "  </tbody>\n",
       "</table>\n",
       "</div>"
      ],
      "text/plain": [
       "           f0\n",
       "t0   8.364078\n",
       "t1  11.500463\n",
       "t2   9.456262\n",
       "t3  10.681527\n",
       "t4   8.588725\n",
       "t5  11.339732\n",
       "t6   8.403033\n",
       "t7  11.649322\n",
       "t8   8.134154\n",
       "t9  12.781047"
      ]
     },
     "execution_count": 8,
     "metadata": {},
     "output_type": "execute_result"
    }
   ],
   "source": [
    "centers[0]"
   ]
  },
  {
   "cell_type": "code",
   "execution_count": 9,
   "id": "c5bf113a-7a81-4ea7-a8ad-000f4390bed3",
   "metadata": {},
   "outputs": [
    {
     "data": {
      "text/html": [
       "<div>\n",
       "<style scoped>\n",
       "    .dataframe tbody tr th:only-of-type {\n",
       "        vertical-align: middle;\n",
       "    }\n",
       "\n",
       "    .dataframe tbody tr th {\n",
       "        vertical-align: top;\n",
       "    }\n",
       "\n",
       "    .dataframe thead th {\n",
       "        text-align: right;\n",
       "    }\n",
       "</style>\n",
       "<table border=\"1\" class=\"dataframe\">\n",
       "  <thead>\n",
       "    <tr style=\"text-align: right;\">\n",
       "      <th></th>\n",
       "      <th>f0</th>\n",
       "    </tr>\n",
       "  </thead>\n",
       "  <tbody>\n",
       "    <tr>\n",
       "      <th>t0</th>\n",
       "      <td>15.380930</td>\n",
       "    </tr>\n",
       "    <tr>\n",
       "      <th>t1</th>\n",
       "      <td>10.049784</td>\n",
       "    </tr>\n",
       "    <tr>\n",
       "      <th>t2</th>\n",
       "      <td>9.418793</td>\n",
       "    </tr>\n",
       "    <tr>\n",
       "      <th>t3</th>\n",
       "      <td>6.158110</td>\n",
       "    </tr>\n",
       "    <tr>\n",
       "      <th>t4</th>\n",
       "      <td>5.367109</td>\n",
       "    </tr>\n",
       "    <tr>\n",
       "      <th>t5</th>\n",
       "      <td>5.464376</td>\n",
       "    </tr>\n",
       "    <tr>\n",
       "      <th>t6</th>\n",
       "      <td>6.618689</td>\n",
       "    </tr>\n",
       "    <tr>\n",
       "      <th>t7</th>\n",
       "      <td>9.106237</td>\n",
       "    </tr>\n",
       "    <tr>\n",
       "      <th>t8</th>\n",
       "      <td>11.315930</td>\n",
       "    </tr>\n",
       "    <tr>\n",
       "      <th>t9</th>\n",
       "      <td>13.775484</td>\n",
       "    </tr>\n",
       "  </tbody>\n",
       "</table>\n",
       "</div>"
      ],
      "text/plain": [
       "           f0\n",
       "t0  15.380930\n",
       "t1  10.049784\n",
       "t2   9.418793\n",
       "t3   6.158110\n",
       "t4   5.367109\n",
       "t5   5.464376\n",
       "t6   6.618689\n",
       "t7   9.106237\n",
       "t8  11.315930\n",
       "t9  13.775484"
      ]
     },
     "execution_count": 9,
     "metadata": {},
     "output_type": "execute_result"
    }
   ],
   "source": [
    "centers[1]"
   ]
  },
  {
   "cell_type": "code",
   "execution_count": null,
   "id": "8ddb95a7-748c-4ff8-8a0b-b3e7809495da",
   "metadata": {},
   "outputs": [],
   "source": [
    "X = random_walks(n_ts=50, sz=32, d=2, random_state=42)\n",
    "Xt = preprocess_utils.ntf_to_tnf(X)"
   ]
  },
  {
   "cell_type": "code",
   "execution_count": null,
   "id": "f360f876-f4a2-48b1-8119-103c3e26178c",
   "metadata": {},
   "outputs": [],
   "source": [
    "km = TSKmeans(n_clusters=3, metric=\"euclidean\", max_iter=5, random_state=0)\n",
    "km.fit(X, arr_format=\"NTF\")\n",
    "print(km.Xt.shape)\n",
    "print(km.labels_)\n",
    "print(len(km.labels_))\n",
    "print(km.cluster_centers_.shape)\n",
    "print(km.cluster_centers_[0, :5, :])\n",
    "print()"
   ]
  },
  {
   "cell_type": "code",
   "execution_count": null,
   "id": "786f6982-f823-4ffb-95d3-5c3165492862",
   "metadata": {},
   "outputs": [],
   "source": [
    "km.get_named_labels(time=['t'+str(t) for t in range(km.fitted_data_shape_[0])], entities=['e'+str(e) for e in range(km.fitted_data_shape_[1])]).head()"
   ]
  },
  {
   "cell_type": "code",
   "execution_count": null,
   "id": "3f8696f2-90ae-4e8b-8dbb-35e254e4e247",
   "metadata": {},
   "outputs": [],
   "source": [
    "km2 = TimeSeriesKMeans(n_clusters=3, metric=\"euclidean\", max_iter=5, random_state=0).fit(X)\n",
    "print(km2.labels_)\n",
    "print(len(km2.labels_))\n",
    "print(km2.cluster_centers_[:5, 0, :])"
   ]
  },
  {
   "cell_type": "code",
   "execution_count": null,
   "id": "62230b11-726b-4362-958d-f501406d6495",
   "metadata": {},
   "outputs": [],
   "source": [
    "km3 = TSGlobalKmeans(n_clusters=3)\n",
    "km3.fit(Xt)\n",
    "print(km3.labels_)\n",
    "print(km3.labels_.shape)"
   ]
  },
  {
   "cell_type": "code",
   "execution_count": null,
   "id": "e1f3686d-c7a5-453a-a284-b7d23c746ff2",
   "metadata": {},
   "outputs": [],
   "source": []
  },
  {
   "cell_type": "code",
   "execution_count": null,
   "id": "b5d8c8bd-ed48-4753-80c8-5a1c54bb34b3",
   "metadata": {},
   "outputs": [],
   "source": [
    "km3.get_named_labels(\n",
    "    time=['t'+str(t) for t in range(km3.fitted_data_shape_[0])], \n",
    "    entities=['e'+str(e) for e in range(km3.fitted_data_shape_[1])]\n",
    ").head()"
   ]
  },
  {
   "cell_type": "code",
   "execution_count": null,
   "id": "1b822277-e122-4c43-a067-0aa2bdf9e4a4",
   "metadata": {},
   "outputs": [],
   "source": [
    "centers = km3.get_named_cluster_centers(\n",
    "    time=['t'+str(t) for t in range(km3.fitted_data_shape_[0])], \n",
    "    features=['f'+str(f) for f in range(km3.fitted_data_shape_[2])]\n",
    ")\n",
    "len(centers)"
   ]
  },
  {
   "cell_type": "code",
   "execution_count": null,
   "id": "6357bf12-5168-4af5-8655-3a30267c00ab",
   "metadata": {},
   "outputs": [],
   "source": [
    "centers[0].head()"
   ]
  },
  {
   "cell_type": "code",
   "execution_count": null,
   "id": "6b07cf7d-568b-46b1-97eb-1d99eb5f6b54",
   "metadata": {},
   "outputs": [],
   "source": [
    "print(\"Z score\")\n",
    "\n",
    "print(\"per_time =True\")\n",
    "\n",
    "scaler = TSStandardScaler(per_time=True)\n",
    "scaler.fit(X, arr_format='NTF')\n",
    "X_scaled = scaler.transform(X, arr_format='NTF',) \n",
    "print(f\"Zscore X_scaled shape is {X_scaled.shape}\")\n",
    "print(X_scaled[0, :5, :])\n",
    "print(f\"Original data is:\")\n",
    "print(Xt[0, :5, :])\n",
    "print(\"Inverse is: \")\n",
    "print(scaler.inverse_transform(X_scaled)[0, :5, :])\n",
    "print()"
   ]
  },
  {
   "cell_type": "code",
   "execution_count": null,
   "id": "0041ea9f-2678-46d1-a000-38052a9a3f52",
   "metadata": {},
   "outputs": [],
   "source": [
    "sk_scaler = StandardScaler()\n",
    "print(sk_scaler.fit_transform(Xt[0])[:5])\n",
    "\n",
    "print(\"per_time = False\")\n",
    "\n",
    "scaler = TSStandardScaler(per_time=False)\n",
    "X_scaled = scaler.fit_transform(Xt)\n",
    "print(f\"Zscore X_scaled shape is {X_scaled.shape}\")\n",
    "print(X_scaled[0, :5, :])\n",
    "print(f\"Original data is:\")\n",
    "print(Xt[0, :5, :])\n",
    "print(\"Inverse is: \")\n",
    "print(scaler.inverse_transform(X_scaled)[0, :5, :])\n",
    "print()"
   ]
  },
  {
   "cell_type": "code",
   "execution_count": null,
   "id": "d1946f10-1079-4131-93b6-7150eb0b5aa1",
   "metadata": {},
   "outputs": [],
   "source": [
    "sk_scaler = StandardScaler()\n",
    "print(sk_scaler.fit_transform(np.vstack(Xt))[:5])\n",
    "\n",
    "\n",
    "print(\"MinMax\")\n",
    "\n",
    "print(\"per_time =True\")\n",
    "\n",
    "scaler = TSMinMaxScaler(per_time=True)\n",
    "X_scaled = scaler.fit_transform(Xt)\n",
    "print(f\"MinMax X_scaled shape is {X_scaled.shape}\")\n",
    "print(X_scaled[0, :5, :])\n",
    "print(f\"Original data is:\")\n",
    "print(Xt[0, :5, :])\n",
    "print(\"Inverse is: \")\n",
    "print(scaler.inverse_transform(X_scaled)[0, :5, :])\n",
    "print()"
   ]
  },
  {
   "cell_type": "code",
   "execution_count": null,
   "id": "57c61762-cb8b-4f84-b704-d70dc567349e",
   "metadata": {},
   "outputs": [],
   "source": [
    "sk_scaler = MinMaxScaler()\n",
    "print(sk_scaler.fit_transform(Xt[0])[:5])\n",
    "\n",
    "print(\"per_time = False\")\n",
    "\n",
    "scaler = TSMinMaxScaler(per_time=False)\n",
    "X_scaled = scaler.fit_transform(Xt)\n",
    "print(f\"MinMax X_scaled shape is {X_scaled.shape}\")\n",
    "print(X_scaled[0, :5, :])\n",
    "print(f\"Original data is:\")\n",
    "print(Xt[0, :5, :])\n",
    "print(\"Inverse is: \")\n",
    "print(scaler.inverse_transform(X_scaled)[0, :5, :])\n",
    "print()"
   ]
  },
  {
   "cell_type": "code",
   "execution_count": null,
   "id": "6e91d950-6648-48bd-9123-b78a8e248dc7",
   "metadata": {},
   "outputs": [],
   "source": [
    "sk_scaler = MinMaxScaler()\n",
    "print(sk_scaler.fit_transform(np.vstack(Xt))[:5])\n",
    "\n",
    "scaler = TSMinMaxScaler(per_time=False)\n",
    "print()\n",
    "print(\"trying fit(str) for csv\")\n",
    "Xt = scaler.fit_transform(\"./synthetic_csv\")\n",
    "print(Xt[0, :5, :])\n",
    "print(\"Inverse tranform for csv\")\n",
    "print(scaler.inverse_transform(Xt)[0, :5, :])"
   ]
  },
  {
   "cell_type": "code",
   "execution_count": null,
   "id": "f14389ff-4e17-4c90-90d7-fbf9bbb55137",
   "metadata": {},
   "outputs": [],
   "source": [
    "print()\n",
    "print(\"trying fit(str) for json\")\n",
    "Xt = scaler.fit_transform(\"./synthetic_json\")\n",
    "print(Xt[0, :5, :])\n",
    "print(\"Inverse tranform for json\")\n",
    "print(scaler.inverse_transform(Xt)[0, :5, :])"
   ]
  },
  {
   "cell_type": "code",
   "execution_count": null,
   "id": "111b9be7-3679-4960-98c2-1977cd9799c9",
   "metadata": {},
   "outputs": [],
   "source": [
    "print()\n",
    "print(\"trying fit(str) for npy\")\n",
    "Xt = scaler.fit_transform(\"./synthetic_npy\")\n",
    "print(Xt[0, :5, :])\n",
    "print(\"Inverse tranform for npy\")\n",
    "print(scaler.inverse_transform(Xt)[0, :5, :])"
   ]
  },
  {
   "cell_type": "code",
   "execution_count": null,
   "id": "5c368f57-8c2b-4582-9a3b-0976732ec6d6",
   "metadata": {},
   "outputs": [],
   "source": [
    "print()\n",
    "print(\"trying fit(lst) for csv\")\n",
    "file_list = [\n",
    "    \"./synthetic_csv/timestep_0.csv\",\n",
    "    \"./synthetic_csv/timestep_1.csv\",\n",
    "    \"./synthetic_csv/timestep_2.csv\",\n",
    "    \"./synthetic_csv/timestep_3.csv\",\n",
    "    \"./synthetic_csv/timestep_4.csv\"\n",
    "]"
   ]
  },
  {
   "cell_type": "code",
   "execution_count": null,
   "id": "d56c55f7-b633-4466-817d-5175775c7ad6",
   "metadata": {},
   "outputs": [],
   "source": [
    "scaler.fit(file_list, read_file_args={'header': 0, 'sep': \",\"})\n",
    "Xt = scaler.transform(file_list, read_file_args={'header': None, 'sep': \",\"})\n",
    "print(Xt[0, :5, :])\n",
    "print(\"Inverse tranform for csv\")\n",
    "print(scaler.inverse_transform(Xt)[0, :5, :])"
   ]
  },
  {
   "cell_type": "code",
   "execution_count": null,
   "id": "283fdd27-199b-480a-a362-69413f4876a7",
   "metadata": {},
   "outputs": [],
   "source": [
    "print()\n",
    "print(\"fit_transform\")\n",
    "# scaler.fit(file_list, read_file_args={'header': None, 'sep': \",\"})\n",
    "Xt = scaler.fit_transform(file_list, read_file_args={'header': None, 'sep': \",\"})\n",
    "print(Xt[0, :5, :])\n",
    "print(\"Inverse tranform for csv\")\n",
    "print(scaler.inverse_transform(Xt)[0, :5, :])"
   ]
  },
  {
   "cell_type": "code",
   "execution_count": null,
   "id": "d5c37374-f018-4ca1-8b93-055de8ec2550",
   "metadata": {},
   "outputs": [],
   "source": []
  }
 ],
 "metadata": {
  "kernelspec": {
   "display_name": "Python 3 (ipykernel)",
   "language": "python",
   "name": "python3"
  },
  "language_info": {
   "codemirror_mode": {
    "name": "ipython",
    "version": 3
   },
   "file_extension": ".py",
   "mimetype": "text/x-python",
   "name": "python",
   "nbconvert_exporter": "python",
   "pygments_lexer": "ipython3",
   "version": "3.9.18"
  }
 },
 "nbformat": 4,
 "nbformat_minor": 5
}
